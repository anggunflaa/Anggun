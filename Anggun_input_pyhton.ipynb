{
  "nbformat": 4,
  "nbformat_minor": 0,
  "metadata": {
    "colab": {
      "provenance": [],
      "authorship_tag": "ABX9TyOFMbOv+S37alzX/pbLAG6Q",
      "include_colab_link": true
    },
    "kernelspec": {
      "name": "python3",
      "display_name": "Python 3"
    },
    "language_info": {
      "name": "python"
    }
  },
  "cells": [
    {
      "cell_type": "markdown",
      "metadata": {
        "id": "view-in-github",
        "colab_type": "text"
      },
      "source": [
        "<a href=\"https://colab.research.google.com/github/anggunflaa/Anggun/blob/main/Anggun_input_pyhton.ipynb\" target=\"_parent\"><img src=\"https://colab.research.google.com/assets/colab-badge.svg\" alt=\"Open In Colab\"/></a>"
      ]
    },
    {
      "cell_type": "code",
      "execution_count": 1,
      "metadata": {
        "id": "rMGn4TZK6Etz"
      },
      "outputs": [],
      "source": [
        "panjang = 30"
      ]
    },
    {
      "cell_type": "code",
      "source": [
        "lebar = 10"
      ],
      "metadata": {
        "id": "_UFOatjg-qXr"
      },
      "execution_count": 2,
      "outputs": []
    },
    {
      "cell_type": "code",
      "source": [
        "luas = panjang * lebar"
      ],
      "metadata": {
        "id": "tvXIp-Uf-t6a"
      },
      "execution_count": 3,
      "outputs": []
    },
    {
      "cell_type": "code",
      "source": [
        "print(\"luas = \", luas)"
      ],
      "metadata": {
        "colab": {
          "base_uri": "https://localhost:8080/"
        },
        "id": "2NoZGWU6-0KW",
        "outputId": "c19eb945-31c2-4f5f-c435-5d2328ae0e36"
      },
      "execution_count": 4,
      "outputs": [
        {
          "output_type": "stream",
          "name": "stdout",
          "text": [
            "luas =  300\n"
          ]
        }
      ]
    },
    {
      "cell_type": "code",
      "source": [
        "nama = input('Anggun: ')"
      ],
      "metadata": {
        "id": "abipVd11AgHJ"
      },
      "execution_count": null,
      "outputs": []
    },
    {
      "cell_type": "code",
      "source": [
        "print('Halo,', Anggun, '.. selamat malam!')"
      ],
      "metadata": {
        "id": "iKkWhwaF_pz5"
      },
      "execution_count": null,
      "outputs": []
    },
    {
      "cell_type": "code",
      "source": [
        "#membuat input pada python"
      ],
      "metadata": {
        "id": "TgrfbCBvCN1I"
      },
      "execution_count": null,
      "outputs": []
    },
    {
      "cell_type": "code",
      "source": [
        "nama = input('Anggun: ')"
      ],
      "metadata": {
        "id": "87rCpFWmA2wV"
      },
      "execution_count": null,
      "outputs": []
    },
    {
      "cell_type": "code",
      "source": [
        "print variable nama bertipe data:', type(Anggun))'"
      ],
      "metadata": {
        "id": "HEV-J2QtBAg_"
      },
      "execution_count": null,
      "outputs": []
    },
    {
      "cell_type": "code",
      "source": [
        "#input"
      ],
      "metadata": {
        "id": "xc7rGWEGC1Wk"
      },
      "execution_count": null,
      "outputs": []
    },
    {
      "cell_type": "code",
      "source": [
        "print('kalkulator luas persegi panjang\\n')"
      ],
      "metadata": {
        "id": "uvC7njoXC2l0"
      },
      "execution_count": null,
      "outputs": []
    },
    {
      "cell_type": "code",
      "source": [
        "panjang = input('masukan panjang\\n')"
      ],
      "metadata": {
        "id": "d3dEfUzTC9Ve"
      },
      "execution_count": null,
      "outputs": []
    },
    {
      "cell_type": "code",
      "source": [
        "lebar = input('masukkan lebar: ')"
      ],
      "metadata": {
        "id": "F-5DkyxvDB23"
      },
      "execution_count": null,
      "outputs": []
    },
    {
      "cell_type": "code",
      "source": [
        "print('luas =', panjang * lebar)"
      ],
      "metadata": {
        "id": "K8t_VNECDIL_"
      },
      "execution_count": null,
      "outputs": []
    },
    {
      "cell_type": "code",
      "source": [
        "#input"
      ],
      "metadata": {
        "id": "DvcXrlE9DdPP"
      },
      "execution_count": null,
      "outputs": []
    },
    {
      "cell_type": "code",
      "source": [
        "masukkan panjang : 30"
      ],
      "metadata": {
        "id": "iBjoAv7XDfIX"
      },
      "execution_count": null,
      "outputs": []
    },
    {
      "cell_type": "code",
      "source": [
        "masukkan lebar : 10"
      ],
      "metadata": {
        "id": "w31LbGwSEEN_"
      },
      "execution_count": null,
      "outputs": []
    },
    {
      "cell_type": "code",
      "source": [
        "#traceback (most recent call last)"
      ],
      "metadata": {
        "id": "4Pzj_kDLEhM2"
      },
      "execution_count": null,
      "outputs": []
    },
    {
      "cell_type": "code",
      "source": [
        "file \"02-int.py\", line 5, in  <module>"
      ],
      "metadata": {
        "id": "1aeY_xzvEorl"
      },
      "execution_count": null,
      "outputs": []
    },
    {
      "cell_type": "code",
      "source": [
        "print('luas =', panjang * lebar)"
      ],
      "metadata": {
        "id": "q9LeN7lPEzPj"
      },
      "execution_count": null,
      "outputs": []
    }
  ]
}