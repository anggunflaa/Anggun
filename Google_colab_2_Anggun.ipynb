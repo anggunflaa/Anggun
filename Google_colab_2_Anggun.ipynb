{
  "nbformat": 4,
  "nbformat_minor": 0,
  "metadata": {
    "colab": {
      "provenance": [],
      "authorship_tag": "ABX9TyNVlNkEV+bqMDztVvBsOhxX",
      "include_colab_link": true
    },
    "kernelspec": {
      "name": "python3",
      "display_name": "Python 3"
    },
    "language_info": {
      "name": "python"
    }
  },
  "cells": [
    {
      "cell_type": "markdown",
      "metadata": {
        "id": "view-in-github",
        "colab_type": "text"
      },
      "source": [
        "<a href=\"https://colab.research.google.com/github/anggunflaa/Anggun/blob/main/Google_colab_2_Anggun.ipynb\" target=\"_parent\"><img src=\"https://colab.research.google.com/assets/colab-badge.svg\" alt=\"Open In Colab\"/></a>"
      ]
    },
    {
      "cell_type": "code",
      "source": [
        "tuple_ganjil = (7, 12, 15, 31)"
      ],
      "metadata": {
        "id": "_P1QEujtnw85"
      },
      "execution_count": null,
      "outputs": []
    },
    {
      "cell_type": "code",
      "source": [
        "print (\"isi tuple ganjil:\", tuple_ganjil)"
      ],
      "metadata": {
        "colab": {
          "base_uri": "https://localhost:8080/"
        },
        "id": "-LeD-m9HJFlb",
        "outputId": "c058e749-1818-4add-c42e-df6dfd8dbd42"
      },
      "execution_count": null,
      "outputs": [
        {
          "output_type": "stream",
          "name": "stdout",
          "text": [
            "isi tuple ganjil: (7, 12, 15, 31)\n"
          ]
        }
      ]
    },
    {
      "cell_type": "code",
      "source": [
        "tuple_genap = (20, 24, 36, 42)\n"
      ],
      "metadata": {
        "id": "LMWqVgagoaYP"
      },
      "execution_count": null,
      "outputs": []
    },
    {
      "cell_type": "code",
      "source": [
        "print (\"isi tuple genap:\", tuple_genap)"
      ],
      "metadata": {
        "colab": {
          "base_uri": "https://localhost:8080/"
        },
        "id": "TBvowVR1J8Da",
        "outputId": "b8284570-07df-4fd9-d343-5c6b174ebbd3"
      },
      "execution_count": null,
      "outputs": [
        {
          "output_type": "stream",
          "name": "stdout",
          "text": [
            "isi tuple genap: (20, 24, 36, 42)\n"
          ]
        }
      ]
    },
    {
      "cell_type": "code",
      "source": [
        "tuple_prima = (3, 7, 13, 17)"
      ],
      "metadata": {
        "id": "6t1eLvqrKgbg"
      },
      "execution_count": null,
      "outputs": []
    },
    {
      "cell_type": "code",
      "source": [
        "print (\"isi tuple prima:\", tuple_prima)"
      ],
      "metadata": {
        "colab": {
          "base_uri": "https://localhost:8080/"
        },
        "id": "7Wmmq_UlKzsL",
        "outputId": "ab29fd42-f0b7-472d-cedd-5118a72a23c6"
      },
      "execution_count": null,
      "outputs": [
        {
          "output_type": "stream",
          "name": "stdout",
          "text": [
            "isi tuple prima: (3, 7, 13, 17)\n"
          ]
        }
      ]
    },
    {
      "cell_type": "code",
      "source": [
        "tuple_kata = ('Hallo', 'Saya', 'Adalah', 'Anggun')"
      ],
      "metadata": {
        "id": "6O0YwgJmLQDH"
      },
      "execution_count": null,
      "outputs": []
    },
    {
      "cell_type": "code",
      "source": [
        "print (\"isi tuple kata:\", tuple_kata)"
      ],
      "metadata": {
        "colab": {
          "base_uri": "https://localhost:8080/"
        },
        "id": "OoM2UV0bLpzn",
        "outputId": "872a2b13-ad99-4363-d01c-38a38dc2fa20"
      },
      "execution_count": null,
      "outputs": [
        {
          "output_type": "stream",
          "name": "stdout",
          "text": [
            "isi tuple kata: ('Hallo', 'Saya', 'Adalah', 'Anggun')\n"
          ]
        }
      ]
    },
    {
      "cell_type": "code",
      "source": [
        "tuple_buah = ('Mangga', 'Apel', 'Pepaya', 'Anggur')\n"
      ],
      "metadata": {
        "id": "OTVfL1CoP6MD"
      },
      "execution_count": null,
      "outputs": []
    },
    {
      "cell_type": "code",
      "source": [
        "print (\"isi tuple buah:\", tuple_buah)"
      ],
      "metadata": {
        "colab": {
          "base_uri": "https://localhost:8080/"
        },
        "id": "LpCMGSplQuRc",
        "outputId": "db26ef28-66d7-47f6-a370-6c1c5ae07150"
      },
      "execution_count": null,
      "outputs": [
        {
          "output_type": "stream",
          "name": "stdout",
          "text": [
            "isi tuple buah: ('Mangga', 'Apel', 'Pepaya', 'Anggur')\n"
          ]
        }
      ]
    }
  ]
}