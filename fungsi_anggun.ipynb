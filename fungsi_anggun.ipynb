{
  "nbformat": 4,
  "nbformat_minor": 0,
  "metadata": {
    "colab": {
      "provenance": [],
      "authorship_tag": "ABX9TyO1r2IIYhfx++znUEZGf56Q",
      "include_colab_link": true
    },
    "kernelspec": {
      "name": "python3",
      "display_name": "Python 3"
    },
    "language_info": {
      "name": "python"
    }
  },
  "cells": [
    {
      "cell_type": "markdown",
      "metadata": {
        "id": "view-in-github",
        "colab_type": "text"
      },
      "source": [
        "<a href=\"https://colab.research.google.com/github/anggunflaa/Anggun/blob/main/fungsi_anggun.ipynb\" target=\"_parent\"><img src=\"https://colab.research.google.com/assets/colab-badge.svg\" alt=\"Open In Colab\"/></a>"
      ]
    },
    {
      "cell_type": "code",
      "execution_count": 1,
      "metadata": {
        "colab": {
          "base_uri": "https://localhost:8080/"
        },
        "id": "B0w6Wxi6ZHMd",
        "outputId": "8664f461-975f-4628-9d17-f669c0402d28"
      },
      "outputs": [
        {
          "output_type": "stream",
          "name": "stdout",
          "text": [
            "Hello, Selamat Pagi\n"
          ]
        }
      ],
      "source": [
        "# Membuat Fungsi\n",
        "def salam():\n",
        "    print (\"Hello, Selamat Pagi\")\n",
        "\n",
        "## Pemanggilan Fungsi\n",
        "salam()"
      ]
    },
    {
      "cell_type": "code",
      "source": [
        "# Membuat Fungsi\n",
        "def salam():\n",
        "    print (\"Hello, Selamat Pagi\")\n",
        "\n",
        "## Pemanggilan Fungsi\n",
        "salam()\n",
        "salam()\n",
        "salam()"
      ],
      "metadata": {
        "colab": {
          "base_uri": "https://localhost:8080/"
        },
        "id": "JtoNp2-6ay_Q",
        "outputId": "ecf9fa33-13dc-4389-80fc-4bb88aceeda3"
      },
      "execution_count": 2,
      "outputs": [
        {
          "output_type": "stream",
          "name": "stdout",
          "text": [
            "Hello, Selamat Pagi\n",
            "Hello, Selamat Pagi\n",
            "Hello, Selamat Pagi\n"
          ]
        }
      ]
    },
    {
      "cell_type": "code",
      "source": [
        "def salam(ucapan):\n",
        "    print(ucapan)\n",
        "salam(\"Selamat Siang\")"
      ],
      "metadata": {
        "colab": {
          "base_uri": "https://localhost:8080/"
        },
        "id": "tjj2Oi6SbPBt",
        "outputId": "73b2a724-10d2-4bdf-8b24-4e1be719661d"
      },
      "execution_count": 3,
      "outputs": [
        {
          "output_type": "stream",
          "name": "stdout",
          "text": [
            "Selamat Siang\n"
          ]
        }
      ]
    },
    {
      "cell_type": "code",
      "source": [
        "# Membuat fungsi dengan parameter\n",
        "def luas_segitiga(alas, tinggi):\n",
        "    luas = (alas * tinggi) / 2\n",
        "    print (\"Luas segitiga: %f\" % luas)\n",
        "\n",
        "# Pemanggilan fungsi\n",
        "luas_segitiga(4, 6)"
      ],
      "metadata": {
        "colab": {
          "base_uri": "https://localhost:8080/"
        },
        "id": "sSnwNvVqb1lW",
        "outputId": "93d3f37b-424d-4e87-aff9-d9e4c251b88b"
      },
      "execution_count": 4,
      "outputs": [
        {
          "output_type": "stream",
          "name": "stdout",
          "text": [
            "Luas segitiga: 12.000000\n"
          ]
        }
      ]
    },
    {
      "cell_type": "code",
      "source": [
        "def luas_persegi(sisi):\n",
        "    luas = sisi * sisi\n",
        "    return luas\n",
        "\n",
        "# pemanggilan fungsi\n",
        "print (\"Luas persegi: %d\" % luas_persegi (6))"
      ],
      "metadata": {
        "colab": {
          "base_uri": "https://localhost:8080/"
        },
        "id": "uMCXUFYMdXqZ",
        "outputId": "16ff2af5-17a7-4f9f-8d7f-351a282084d0"
      },
      "execution_count": 5,
      "outputs": [
        {
          "output_type": "stream",
          "name": "stdout",
          "text": [
            "Luas persegi: 36\n"
          ]
        }
      ]
    },
    {
      "cell_type": "code",
      "source": [
        "# membuat variabel global\n",
        "nama = \"Belajar Kode\"\n",
        "versi = \"1.0.0\"\n",
        "\n",
        "def help():\n",
        "    # ini variabel lokal\n",
        "    nama = \"Programku\"\n",
        "    versi = \"1.0.1\"\n",
        "    # mengakses variabel lokal\n",
        "    print (\"Nama: %s\" % nama)\n",
        "    print (\"versi: %s\" % versi)\n",
        "\n",
        "# mengakses variabel global\n",
        "print (\"Nama: %s\" % nama)\n",
        "print (\"Versi: %s\" % versi)\n",
        "\n",
        "# memanggil fungsi help()\n",
        "help()"
      ],
      "metadata": {
        "colab": {
          "base_uri": "https://localhost:8080/"
        },
        "id": "IcgMVWD5ex29",
        "outputId": "c512c8fb-3d7b-4f8d-c488-2822cb145149"
      },
      "execution_count": 6,
      "outputs": [
        {
          "output_type": "stream",
          "name": "stdout",
          "text": [
            "Nama: Belajar Kode\n",
            "Versi: 1.0.0\n",
            "Nama: Programku\n",
            "versi: 1.0.1\n"
          ]
        }
      ]
    },
    {
      "cell_type": "code",
      "source": [
        "# membuat variabel global\n",
        "nama = \"Nama, tanggal lahir\"\n",
        "versi = \"Anggun, 08 juni 2005\"\n",
        "\n",
        "def help():\n",
        "    # ini variabel lokal\n",
        "    nama = \" biodata hobi, jurusan, tempat tinggal\"\n",
        "    versi = \"bernyanyi, ilmu komputer, Belo laut\"\n",
        "    # mengakses variabel lokal\n",
        "    print (\"Nama: %s\" % nama)\n",
        "    print (\"versi: %s\" % versi)\n",
        "\n",
        "# mengakses variabel global\n",
        "print (\"Nama: %s\" % nama)\n",
        "print (\"Versi: %s\" % versi)\n",
        "\n",
        "# memanggil fungsi help()\n",
        "help()"
      ],
      "metadata": {
        "colab": {
          "base_uri": "https://localhost:8080/"
        },
        "id": "tulLkO7ti5Ei",
        "outputId": "af42e0d1-758a-46e2-9db3-9bcfc4f8a0a8"
      },
      "execution_count": 7,
      "outputs": [
        {
          "output_type": "stream",
          "name": "stdout",
          "text": [
            "Nama: Nama, tanggal lahir\n",
            "Versi: Anggun, 08 juni 2005\n",
            "Nama:  biodata hobi, jurusan, tempat tinggal\n",
            "versi: bernyanyi, ilmu komputer, Belo laut\n"
          ]
        }
      ]
    },
    {
      "cell_type": "code",
      "source": [
        "buku = []\n",
        "# fungsi untuk menampilkan semua data\n",
        "def show_data():\n",
        "    if len(buku) <= 0:\n",
        "        print(\"BELUM ADA DATA\")\n",
        "    else:\n",
        "        for indeks in range(len(buku)):\n",
        "            print(\"[{}]] {}\".format(indeks, buku[indeks]))\n",
        "\n",
        "# fungsi untuk menambah data\n",
        "def insert_data():\n",
        "    buku_baru = input(\"Judul Buku: \")\n",
        "    buku.append(buku_baru)\n",
        "\n",
        "# fungsi untuk edit data\n",
        "def edit_data():\n",
        "    show_data()\n",
        "    indeks = int(input(\"Inputkan ID buku: \"))\n",
        "    if indeks > len(buku):\n",
        "        print(\"ID salah\")\n",
        "    else:\n",
        "        judul_baru = input(\"Judul baru: \")\n",
        "        buku[indeks] = judul_baru\n",
        "\n",
        "# fungsi untuk edit data\n",
        "def delete_data():\n",
        "    show_data()\n",
        "    indeks = int(input(\"Inputkan ID buku: \"))\n",
        "    if indeks > len(buku):\n",
        "        print(\"ID salah\")\n",
        "    else:\n",
        "        buku.remove(buku[indeks])\n",
        "\n",
        "# fungsi untuk menampilkan menu\n",
        "def show_menu():\n",
        "    print(\"\\n\")\n",
        "    print(\"---------- MENU ----------\")\n",
        "    print(\"[1] Show Data\")\n",
        "    print(\"[2] Insert Data\")\n",
        "    print(\"[3] Edit Data\")\n",
        "    print(\"[4] Delele Data\")\n",
        "    print(\"[5] Exit\")\n",
        "\n",
        "    menu = input(\"PILIH MENU> \")\n",
        "    print(\"\\n\")\n",
        "\n",
        "    if int(menu) == 1:\n",
        "        show_data()\n",
        "    elif int(menu) == 2:\n",
        "        insert_data()\n",
        "    elif int(menu) == 3:\n",
        "        edit_data()\n",
        "    elif int(menu) == 4:\n",
        "        delete_data()\n",
        "    elif int(menu) == 5:\n",
        "        exit()\n",
        "    else:\n",
        "        print(\"Salah pilih!\")\n",
        "\n",
        "if __name__==\"__main__\":\n",
        "      while True:\n",
        "        show_menu()"
      ],
      "metadata": {
        "id": "uU0Os__q0qMw",
        "colab": {
          "base_uri": "https://localhost:8080/"
        },
        "outputId": "879148ef-733d-4c40-c5d7-94da611f782b"
      },
      "execution_count": null,
      "outputs": [
        {
          "output_type": "stream",
          "name": "stdout",
          "text": [
            "\n",
            "\n",
            "---------- MENU ----------\n",
            "[1] Show Data\n",
            "[2] Insert Data\n",
            "[3] Edit Data\n",
            "[4] Delele Data\n",
            "[5] Exit\n",
            "PILIH MENU> 2\n",
            "\n",
            "\n",
            "Judul Buku: man in love\n",
            "\n",
            "\n",
            "---------- MENU ----------\n",
            "[1] Show Data\n",
            "[2] Insert Data\n",
            "[3] Edit Data\n",
            "[4] Delele Data\n",
            "[5] Exit\n",
            "PILIH MENU> 1\n",
            "\n",
            "\n",
            "[0]] man in love\n",
            "\n",
            "\n",
            "---------- MENU ----------\n",
            "[1] Show Data\n",
            "[2] Insert Data\n",
            "[3] Edit Data\n",
            "[4] Delele Data\n",
            "[5] Exit\n",
            "PILIH MENU> 5\n",
            "\n",
            "\n",
            "\n",
            "\n",
            "---------- MENU ----------\n",
            "[1] Show Data\n",
            "[2] Insert Data\n",
            "[3] Edit Data\n",
            "[4] Delele Data\n",
            "[5] Exit\n"
          ]
        }
      ]
    }
  ]
}