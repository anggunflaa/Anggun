{
  "nbformat": 4,
  "nbformat_minor": 0,
  "metadata": {
    "colab": {
      "provenance": [],
      "authorship_tag": "ABX9TyOZEsAmnE+EHvr8KTh24ADY",
      "include_colab_link": true
    },
    "kernelspec": {
      "name": "python3",
      "display_name": "Python 3"
    },
    "language_info": {
      "name": "python"
    }
  },
  "cells": [
    {
      "cell_type": "markdown",
      "metadata": {
        "id": "view-in-github",
        "colab_type": "text"
      },
      "source": [
        "<a href=\"https://colab.research.google.com/github/anggunflaa/Anggun/blob/main/Anggun_perulangan_for.ipynb\" target=\"_parent\"><img src=\"https://colab.research.google.com/assets/colab-badge.svg\" alt=\"Open In Colab\"/></a>"
      ]
    },
    {
      "cell_type": "code",
      "execution_count": 4,
      "metadata": {
        "colab": {
          "base_uri": "https://localhost:8080/"
        },
        "id": "wFb85jAqG5U8",
        "outputId": "101c6aba-f121-4921-d29f-e8ebfef0735b"
      },
      "outputs": [
        {
          "output_type": "stream",
          "name": "stdout",
          "text": [
            "Jakarta\n",
            "Surabaya\n",
            "Depok\n",
            "Bekasi\n",
            "Solo\n",
            "Jogjakarta\n",
            "Semarang\n",
            "Makassar\n"
          ]
        }
      ],
      "source": [
        "listKota = [\n",
        "    'Jakarta', 'Surabaya', 'Depok', 'Bekasi', 'Solo',\n",
        "    'Jogjakarta', 'Semarang', 'Makassar'\n",
        "]\n",
        "\n",
        "for kota in listKota:\n",
        "  print(kota)"
      ]
    },
    {
      "cell_type": "code",
      "source": [
        "listKota = [\n",
        "    'Jakarta', 'Surabaya', 'Depok', 'Bekasi', 'Solo',\n",
        "    'Jogjakarta', 'Semarang', 'Makassar'\n",
        "]\n",
        "\n",
        "for i, kota in enumerate(listKota):\n",
        "  print(i, kota)"
      ],
      "metadata": {
        "colab": {
          "base_uri": "https://localhost:8080/"
        },
        "id": "M5i8mhF-MW5s",
        "outputId": "914f2916-6327-427f-9b79-cd0e0c6b067a"
      },
      "execution_count": 6,
      "outputs": [
        {
          "output_type": "stream",
          "name": "stdout",
          "text": [
            "0 Jakarta\n",
            "1 Surabaya\n",
            "2 Depok\n",
            "3 Bekasi\n",
            "4 Solo\n",
            "5 Jogjakarta\n",
            "6 Semarang\n",
            "7 Makassar\n"
          ]
        }
      ]
    },
    {
      "cell_type": "code",
      "source": [
        "## 0 sampai 4\n",
        "for i in range(5):\n",
        "  print(\"Perulangan ke -\", i)"
      ],
      "metadata": {
        "colab": {
          "base_uri": "https://localhost:8080/"
        },
        "id": "KOWf-JKXNVpa",
        "outputId": "cadb490d-8fed-4f12-e608-a3bff01270ce"
      },
      "execution_count": 7,
      "outputs": [
        {
          "output_type": "stream",
          "name": "stdout",
          "text": [
            "Perulangan ke - 0\n",
            "Perulangan ke - 1\n",
            "Perulangan ke - 2\n",
            "Perulangan ke - 3\n",
            "Perulangan ke - 4\n"
          ]
        }
      ]
    },
    {
      "cell_type": "code",
      "source": [
        "## 10 sampai 15\n",
        "for i in range(10, 16):\n",
        "  print('i =', i)"
      ],
      "metadata": {
        "colab": {
          "base_uri": "https://localhost:8080/"
        },
        "id": "s1BoMf3RNx9Q",
        "outputId": "512b6fa9-2010-4b39-b0b2-793b3e231737"
      },
      "execution_count": 8,
      "outputs": [
        {
          "output_type": "stream",
          "name": "stdout",
          "text": [
            "i = 10\n",
            "i = 11\n",
            "i = 12\n",
            "i = 13\n",
            "i = 14\n",
            "i = 15\n"
          ]
        }
      ]
    },
    {
      "cell_type": "code",
      "source": [
        "## Bilangan genap kelipatan 2\n",
        "for i in range(2, 12, 2):\n",
        "  print('i =', i)"
      ],
      "metadata": {
        "colab": {
          "base_uri": "https://localhost:8080/"
        },
        "id": "dRpqI6_uOURd",
        "outputId": "ac11a792-8dd0-4047-e0a0-a960f5b1458a"
      },
      "execution_count": 9,
      "outputs": [
        {
          "output_type": "stream",
          "name": "stdout",
          "text": [
            "i = 2\n",
            "i = 4\n",
            "i = 6\n",
            "i = 8\n",
            "i = 10\n"
          ]
        }
      ]
    },
    {
      "cell_type": "code",
      "source": [
        "## Bilangan ganjil kelipatan 2\n",
        "for bilangan_ganjil in range(1, 12, 2):\n",
        "  print(bilangan_ganjil)"
      ],
      "metadata": {
        "colab": {
          "base_uri": "https://localhost:8080/"
        },
        "id": "MAAyFW_zPXJL",
        "outputId": "2b32f3d0-dbe8-4a6b-bae0-d6337faf695a"
      },
      "execution_count": 10,
      "outputs": [
        {
          "output_type": "stream",
          "name": "stdout",
          "text": [
            "1\n",
            "3\n",
            "5\n",
            "7\n",
            "9\n",
            "11\n"
          ]
        }
      ]
    },
    {
      "cell_type": "code",
      "source": [
        "tupleBuah = ('Mangga', 'Jeruk', 'Apel', 'Pepaya')\n",
        "\n",
        "for buah in tupleBuah:\n",
        "  print(buah)"
      ],
      "metadata": {
        "colab": {
          "base_uri": "https://localhost:8080/"
        },
        "id": "8tEg8kLmP2tP",
        "outputId": "ba1a651e-5972-4fa1-e075-a7ce73cd78c0"
      },
      "execution_count": 12,
      "outputs": [
        {
          "output_type": "stream",
          "name": "stdout",
          "text": [
            "Mangga\n",
            "Jeruk\n",
            "Apel\n",
            "Pepaya\n"
          ]
        }
      ]
    },
    {
      "cell_type": "code",
      "source": [
        "for karakter in \"IndonesiaID\":\n",
        "  print(karakter)"
      ],
      "metadata": {
        "colab": {
          "base_uri": "https://localhost:8080/"
        },
        "id": "qwBscssZQND-",
        "outputId": "66c28149-1f8b-48c0-a6e8-0b7d188ae1fd"
      },
      "execution_count": 13,
      "outputs": [
        {
          "output_type": "stream",
          "name": "stdout",
          "text": [
            "I\n",
            "n\n",
            "d\n",
            "o\n",
            "n\n",
            "e\n",
            "s\n",
            "i\n",
            "a\n",
            "I\n",
            "D\n"
          ]
        }
      ]
    },
    {
      "cell_type": "code",
      "source": [
        "for i in range(10, 20):\n",
        "  # skip jika i == 15\n",
        "  if (i == 15):\n",
        "   continue\n",
        "\n",
        "  print(i)"
      ],
      "metadata": {
        "colab": {
          "base_uri": "https://localhost:8080/"
        },
        "id": "tPbDctDNQdxP",
        "outputId": "ed32abef-3f63-4fbf-a4d5-9d270f71d55f"
      },
      "execution_count": 17,
      "outputs": [
        {
          "output_type": "stream",
          "name": "stdout",
          "text": [
            "10\n",
            "11\n",
            "12\n",
            "13\n",
            "14\n",
            "16\n",
            "17\n",
            "18\n",
            "19\n"
          ]
        }
      ]
    },
    {
      "cell_type": "code",
      "source": [
        "for i in range(10, 20):\n",
        "  # hentikan jika i == 15\n",
        "  if (i == 15):\n",
        "    break\n",
        "\n",
        "  print(i)"
      ],
      "metadata": {
        "colab": {
          "base_uri": "https://localhost:8080/"
        },
        "id": "mXcea-ujQ6CW",
        "outputId": "a6d0f684-bcae-4df6-a056-28b70aff870f"
      },
      "execution_count": 18,
      "outputs": [
        {
          "output_type": "stream",
          "name": "stdout",
          "text": [
            "10\n",
            "11\n",
            "12\n",
            "13\n",
            "14\n"
          ]
        }
      ]
    },
    {
      "cell_type": "code",
      "source": [
        "listKota = [\n",
        "    'Jakarta', 'Surabaya', 'Depok', 'Bekasi', 'Solo',\n",
        "    'Jogjakarta', 'Semarang', 'Makassar'\n",
        "]\n",
        "\n",
        "for kota in listKota:\n",
        "  print(kota)\n",
        "else:\n",
        "  print('Tidak ada lagi item yang tersedia')"
      ],
      "metadata": {
        "colab": {
          "base_uri": "https://localhost:8080/"
        },
        "id": "p901ImyAReCv",
        "outputId": "c28f7caf-ed25-4375-967e-1d8e5acf3b23"
      },
      "execution_count": 19,
      "outputs": [
        {
          "output_type": "stream",
          "name": "stdout",
          "text": [
            "Jakarta\n",
            "Surabaya\n",
            "Depok\n",
            "Bekasi\n",
            "Solo\n",
            "Jogjakarta\n",
            "Semarang\n",
            "Makassar\n",
            "Tidak ada lagi item yang tersedia\n"
          ]
        }
      ]
    },
    {
      "cell_type": "code",
      "source": [
        "listKota = [\n",
        "    'Jakarta', 'Surabaya', 'Depok', 'Bekasi', 'Solo',\n",
        "    'Jogjakarta', 'Semarang', 'Makassar'\n",
        "]\n",
        "\n",
        "kotaYangDicari = input('Ketik nama kota yang kamu cari: ')\n",
        "\n",
        "for i, kota in enumerate(listKota):\n",
        "  # kita ubah katanya ke lowercase agar\n",
        "  # menjadi case insensitive\n",
        "  if kota.lower() == kotaYangDicari.lower():\n",
        "    print('Kota yang anda cari berada pada indeks', i)\n",
        "    break\n",
        "else:\n",
        "    print('Maaf, kota yang anda cari tidak ada')"
      ],
      "metadata": {
        "colab": {
          "base_uri": "https://localhost:8080/"
        },
        "id": "6N-ym0frR_er",
        "outputId": "a81650fd-58df-43d6-d6e2-21105d007706"
      },
      "execution_count": 22,
      "outputs": [
        {
          "output_type": "stream",
          "name": "stdout",
          "text": [
            "Ketik nama kota yang kamu cari: Muntok\n",
            "Maaf, kota yang anda cari tidak ada\n"
          ]
        }
      ]
    },
    {
      "cell_type": "markdown",
      "source": [],
      "metadata": {
        "id": "5ugh6K82OTLN"
      }
    }
  ]
}