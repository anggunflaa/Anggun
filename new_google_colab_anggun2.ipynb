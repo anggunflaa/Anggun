{
  "nbformat": 4,
  "nbformat_minor": 0,
  "metadata": {
    "colab": {
      "provenance": [],
      "authorship_tag": "ABX9TyPOhRjZaqw0mxRaez0uXtbZ",
      "include_colab_link": true
    },
    "kernelspec": {
      "name": "python3",
      "display_name": "Python 3"
    },
    "language_info": {
      "name": "python"
    }
  },
  "cells": [
    {
      "cell_type": "markdown",
      "metadata": {
        "id": "view-in-github",
        "colab_type": "text"
      },
      "source": [
        "<a href=\"https://colab.research.google.com/github/anggunflaa/Anggun/blob/main/new_google_colab_anggun2.ipynb\" target=\"_parent\"><img src=\"https://colab.research.google.com/assets/colab-badge.svg\" alt=\"Open In Colab\"/></a>"
      ]
    },
    {
      "cell_type": "code",
      "source": [
        "#TUPLE = DAPAT MENYIMPAN LEBIH DARI SATU"
      ],
      "metadata": {
        "id": "Yb3RfurjUp0H"
      },
      "execution_count": null,
      "outputs": []
    },
    {
      "cell_type": "code",
      "source": [
        "#DALAM SATU VARIABEL"
      ],
      "metadata": {
        "id": "ZUygk1btVCVi"
      },
      "execution_count": null,
      "outputs": []
    },
    {
      "cell_type": "code",
      "source": [
        "#TUPLE MEMPUNYAI SIFAT ORDERED/SECARA URUT"
      ],
      "metadata": {
        "id": "LROsUe3yVGTb"
      },
      "execution_count": null,
      "outputs": []
    },
    {
      "cell_type": "code",
      "source": [
        "#DAN TIDAK BISA DIUBAH"
      ],
      "metadata": {
        "id": "tqwqkOr9VQlH"
      },
      "execution_count": null,
      "outputs": []
    },
    {
      "cell_type": "code",
      "source": [
        "#NILAI TUPLE TIDAK BISA DI UBAH"
      ],
      "metadata": {
        "id": "n9ODpTNzVUwJ"
      },
      "execution_count": null,
      "outputs": []
    },
    {
      "cell_type": "code",
      "execution_count": null,
      "metadata": {
        "colab": {
          "base_uri": "https://localhost:8080/"
        },
        "id": "mbpGaKuDGloX",
        "outputId": "ca17dde8-dfc1-4414-f596-c4736d4e0fbd"
      },
      "outputs": [
        {
          "output_type": "stream",
          "name": "stdout",
          "text": [
            "CONTOH TUPLE\n"
          ]
        }
      ],
      "source": [
        "print(\"CONTOH TUPLE\")"
      ]
    },
    {
      "cell_type": "code",
      "source": [
        "nama = (\"anggun\", \"diwa\", \"imelda\")"
      ],
      "metadata": {
        "id": "0fcTUmgzNMqk"
      },
      "execution_count": null,
      "outputs": []
    },
    {
      "cell_type": "code",
      "source": [
        "print(nama)"
      ],
      "metadata": {
        "colab": {
          "base_uri": "https://localhost:8080/"
        },
        "id": "2bvdYndUNy9s",
        "outputId": "0be7b507-1d4d-4014-d427-a1be9a6bfa2f"
      },
      "execution_count": null,
      "outputs": [
        {
          "output_type": "stream",
          "name": "stdout",
          "text": [
            "('anggun', 'diwa', 'imelda')\n"
          ]
        }
      ]
    },
    {
      "cell_type": "code",
      "source": [
        "print('') #baris baru"
      ],
      "metadata": {
        "colab": {
          "base_uri": "https://localhost:8080/"
        },
        "id": "HYQGwMJhVeCi",
        "outputId": "50938ea6-5df7-4f18-f940-570a7ecfa489"
      },
      "execution_count": null,
      "outputs": [
        {
          "output_type": "stream",
          "name": "stdout",
          "text": [
            "\n"
          ]
        }
      ]
    },
    {
      "cell_type": "code",
      "source": [
        "print(nama[1])"
      ],
      "metadata": {
        "colab": {
          "base_uri": "https://localhost:8080/"
        },
        "id": "MycO_JeYVrBF",
        "outputId": "991e124d-a347-4748-c039-f788f938a4b6"
      },
      "execution_count": null,
      "outputs": [
        {
          "output_type": "stream",
          "name": "stdout",
          "text": [
            "diwa\n"
          ]
        }
      ]
    },
    {
      "cell_type": "code",
      "source": [
        " print(nama[0])"
      ],
      "metadata": {
        "colab": {
          "base_uri": "https://localhost:8080/"
        },
        "id": "wOywyTrSV_Pk",
        "outputId": "fa229457-8a86-4b5e-ce52-3231de18955f"
      },
      "execution_count": null,
      "outputs": [
        {
          "output_type": "stream",
          "name": "stdout",
          "text": [
            "anggun\n"
          ]
        }
      ]
    },
    {
      "cell_type": "code",
      "source": [
        "print(nama[2])"
      ],
      "metadata": {
        "colab": {
          "base_uri": "https://localhost:8080/"
        },
        "id": "zD4BOFSoWJ6c",
        "outputId": "beda4d6a-b154-43c6-cdec-4106ff240688"
      },
      "execution_count": null,
      "outputs": [
        {
          "output_type": "stream",
          "name": "stdout",
          "text": [
            "imelda\n"
          ]
        }
      ]
    },
    {
      "cell_type": "code",
      "source": [
        "print('') #baris baru"
      ],
      "metadata": {
        "colab": {
          "base_uri": "https://localhost:8080/"
        },
        "id": "HNwCShj4WO8q",
        "outputId": "8cfb6b5d-2054-4753-ec01-2e1c6ffb6216"
      },
      "execution_count": null,
      "outputs": [
        {
          "output_type": "stream",
          "name": "stdout",
          "text": [
            "\n"
          ]
        }
      ]
    },
    {
      "cell_type": "code",
      "source": [
        "for a in nama:\n",
        "  print(a)"
      ],
      "metadata": {
        "colab": {
          "base_uri": "https://localhost:8080/"
        },
        "id": "D5vdGAwEWWiw",
        "outputId": "aef6944b-6030-4354-8577-e18e5743e719"
      },
      "execution_count": null,
      "outputs": [
        {
          "output_type": "stream",
          "name": "stdout",
          "text": [
            "anggun\n",
            "diwa\n",
            "imelda\n"
          ]
        }
      ]
    },
    {
      "cell_type": "code",
      "source": [
        "print('')#baris baru"
      ],
      "metadata": {
        "colab": {
          "base_uri": "https://localhost:8080/"
        },
        "id": "IntzLjG4WouT",
        "outputId": "39a51fbc-9aaf-41af-f131-7ddddffc8a4d"
      },
      "execution_count": null,
      "outputs": [
        {
          "output_type": "stream",
          "name": "stdout",
          "text": [
            "\n"
          ]
        }
      ]
    },
    {
      "cell_type": "code",
      "source": [
        "print(\"METODE TUPLE\")"
      ],
      "metadata": {
        "colab": {
          "base_uri": "https://localhost:8080/"
        },
        "id": "dJFYcIWkWxrJ",
        "outputId": "051dd144-f3c0-4e6a-dae8-10ecf8e3a362"
      },
      "execution_count": null,
      "outputs": [
        {
          "output_type": "stream",
          "name": "stdout",
          "text": [
            "METODE TUPLE\n"
          ]
        }
      ]
    },
    {
      "cell_type": "code",
      "source": [
        "print(nama.count(\"diwa\"))"
      ],
      "metadata": {
        "colab": {
          "base_uri": "https://localhost:8080/"
        },
        "id": "CbVtLMjyXO8r",
        "outputId": "8f9aa165-f3c9-4e9d-ab5b-ce695fb08c7f"
      },
      "execution_count": null,
      "outputs": [
        {
          "output_type": "stream",
          "name": "stdout",
          "text": [
            "1\n"
          ]
        }
      ]
    },
    {
      "cell_type": "code",
      "source": [
        "print(nama.index(\"imelda\"))"
      ],
      "metadata": {
        "colab": {
          "base_uri": "https://localhost:8080/"
        },
        "id": "0s-zx8leYHJ8",
        "outputId": "bfc8f464-933d-4f05-b1c6-50b5b1e6fe63"
      },
      "execution_count": null,
      "outputs": [
        {
          "output_type": "stream",
          "name": "stdout",
          "text": [
            "2\n"
          ]
        }
      ]
    }
  ]
}