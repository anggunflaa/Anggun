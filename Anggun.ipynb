{
  "nbformat": 4,
  "nbformat_minor": 0,
  "metadata": {
    "colab": {
      "provenance": [],
      "authorship_tag": "ABX9TyOd/aKdsr44glnPbFjWGGPm",
      "include_colab_link": true
    },
    "kernelspec": {
      "name": "python3",
      "display_name": "Python 3"
    },
    "language_info": {
      "name": "python"
    }
  },
  "cells": [
    {
      "cell_type": "markdown",
      "metadata": {
        "id": "view-in-github",
        "colab_type": "text"
      },
      "source": [
        "<a href=\"https://colab.research.google.com/github/anggunflaa/Anggun/blob/main/Anggun.ipynb\" target=\"_parent\"><img src=\"https://colab.research.google.com/assets/colab-badge.svg\" alt=\"Open In Colab\"/></a>"
      ]
    },
    {
      "cell_type": "code",
      "execution_count": 9,
      "metadata": {
        "colab": {
          "base_uri": "https://localhost:8080/"
        },
        "id": "PusnYM5Ugra4",
        "outputId": "505be685-ada7-4e37-c595-1529fd7e5a47"
      },
      "outputs": [
        {
          "output_type": "stream",
          "name": "stdout",
          "text": [
            "kode program ini akan dieksekusi\n"
          ]
        }
      ],
      "source": [
        "if True:\n",
        "  print('kode program ini akan dieksekusi')"
      ]
    },
    {
      "cell_type": "code",
      "source": [
        "if False:\n",
        "   print('kode program ini tidak akan dieksekusi')"
      ],
      "metadata": {
        "id": "SvTf5oQTg6MG"
      },
      "execution_count": null,
      "outputs": []
    },
    {
      "cell_type": "code",
      "source": [
        " print('kode program ini akan selalu dieksekusi')"
      ],
      "metadata": {
        "colab": {
          "base_uri": "https://localhost:8080/"
        },
        "id": "aFC3o9fXhJfr",
        "outputId": "c94831ba-d773-42ab-8ded-dd3aa6513eeb"
      },
      "execution_count": null,
      "outputs": [
        {
          "output_type": "stream",
          "name": "stdout",
          "text": [
            "kode program ini akan selalu dieksekusi\n"
          ]
        }
      ]
    },
    {
      "cell_type": "code",
      "source": [
        "nilai = 90\n",
        "print('Nilai anda adalah:', nilai, '\\A')"
      ],
      "metadata": {
        "colab": {
          "base_uri": "https://localhost:8080/"
        },
        "id": "5fyEo0_ui8ZO",
        "outputId": "c29ef7cb-2fb8-4294-ec2b-9d7e6235bd0d"
      },
      "execution_count": null,
      "outputs": [
        {
          "output_type": "stream",
          "name": "stdout",
          "text": [
            "Nilai anda adalah: 90 \\A\n"
          ]
        }
      ]
    },
    {
      "cell_type": "code",
      "source": [
        "if nilai >= 90:\n",
        "  print('selamat, anda lulus!')\n",
        "else:\n",
        "  print('maaf,anda tidak lulus.')"
      ],
      "metadata": {
        "colab": {
          "base_uri": "https://localhost:8080/"
        },
        "id": "Ry3_7zLWjL4v",
        "outputId": "bc4a1a76-fa07-4725-95ad-9081fa843c74"
      },
      "execution_count": null,
      "outputs": [
        {
          "output_type": "stream",
          "name": "stdout",
          "text": [
            "selamat, anda lulus!\n"
          ]
        }
      ]
    },
    {
      "cell_type": "code",
      "source": [
        "nilai = int(input('masukkan nilai: '))\n",
        "if nilai >= 90:\n",
        "  print('predikat A')\n",
        "elif nilai >= 80:\n",
        "  print('predikat B')\n",
        "elif nilai >= 60:\n",
        "  print('predikat C')\n",
        "elif nilai >= 40:\n",
        "  print('predikat D')\n",
        "else:\n",
        "  print('predikat E')"
      ],
      "metadata": {
        "colab": {
          "base_uri": "https://localhost:8080/"
        },
        "id": "fexIh4qpmJBj",
        "outputId": "791d81c9-48de-4e60-eab3-7b04957dc1c0"
      },
      "execution_count": null,
      "outputs": [
        {
          "output_type": "stream",
          "name": "stdout",
          "text": [
            "masukkan nilai: 80\n",
            "predikat B\n"
          ]
        }
      ]
    },
    {
      "cell_type": "code",
      "source": [
        "buah_yang_tersedia = ['jeruk','mangga','melon']\n",
        "buah_yang_dicari = input('masukkan nama buah dalam huruf kecil: ')\n",
        "\n",
        "if (buah_yang_dicari in buah_yang_tersedia):\n",
        "  print('buah yang anda cari tersedia!')\n",
        "else:\n",
        "  print('buah yang anda cari tidak tersedia! ')"
      ],
      "metadata": {
        "colab": {
          "base_uri": "https://localhost:8080/"
        },
        "id": "PFi6MNTEno4S",
        "outputId": "c287a926-ef94-40ca-d8f9-14aaa1906faa"
      },
      "execution_count": null,
      "outputs": [
        {
          "output_type": "stream",
          "name": "stdout",
          "text": [
            "masukkan nama buah dalam huruf kecil: apel\n",
            "buah yang anda cari tidak tersedia! \n"
          ]
        }
      ]
    },
    {
      "cell_type": "code",
      "source": [
        "nilai = int(input('masukkan nilai: '))\n",
        "usia = int(input('masukkan usia: '))\n",
        "\n",
        "if nilai >= 75:\n",
        "  if (usia < 15):\n",
        "    print('selamat adek, kamu lulus! ')\n",
        "  else:\n",
        "    print('selamat kakak, kamu lulus! ')\n",
        "else:\n",
        "  if (usia < 15):\n",
        "    print('mohon maaf dek, coba lagi ya! ')\n",
        "  else:\n",
        "    print('mohon maaf kak, coba lagi ya! ')"
      ],
      "metadata": {
        "colab": {
          "base_uri": "https://localhost:8080/"
        },
        "id": "ti2wAgvdpyDN",
        "outputId": "192b5564-1025-47a2-dab8-5345da22dc17"
      },
      "execution_count": null,
      "outputs": [
        {
          "output_type": "stream",
          "name": "stdout",
          "text": [
            "masukkan nilai: 80\n",
            "masukkan usia: 17\n",
            "selamat kakak, kamu lulus! \n"
          ]
        }
      ]
    }
  ]
}